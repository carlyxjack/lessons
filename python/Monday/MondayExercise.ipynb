{
 "metadata": {
  "name": "",
  "signature": "sha256:a4ffb03aa91e4e4005d9d3fedc84b3818fa1521bc99bcadc0eca43ca9ea4d587"
 },
 "nbformat": 3,
 "nbformat_minor": 0,
 "worksheets": [
  {
   "cells": [
    {
     "cell_type": "code",
     "collapsed": false,
     "input": [
      "## importing modules\n",
      "from osgeo import ogr\n",
      "from osgeo import osr\n",
      "import os\n",
      "\n",
      "## Is the ESRI Shapefile driver available?\n",
      "driverName = \"ESRI Shapefile\"\n",
      "drv = ogr.GetDriverByName( driverName )\n",
      "if drv is None:\n",
      "    print \"%s driver not available.\\n\" % driverName\n",
      "else:\n",
      "    print  \"%s driver IS available.\\n\" % driverName\n"
     ],
     "language": "python",
     "metadata": {},
     "outputs": [
      {
       "output_type": "stream",
       "stream": "stdout",
       "text": [
        "ESRI Shapefile driver IS available.\n",
        "\n"
       ]
      }
     ],
     "prompt_number": 6
    },
    {
     "cell_type": "code",
     "collapsed": false,
     "input": [
      "\n",
      "## choose your own name\n",
      "## make sure this layer does not exist in your 'data' folder\n",
      "fn = \"data/points.shp\"\n",
      "layername = \"anewlayer\"\n",
      "\n",
      "## Create shape file\n",
      "ds = drv.CreateDataSource(fn)\n",
      "print ds.GetRefCount()"
     ],
     "language": "python",
     "metadata": {},
     "outputs": [
      {
       "output_type": "stream",
       "stream": "stdout",
       "text": [
        "1\n"
       ]
      }
     ],
     "prompt_number": 7
    },
    {
     "cell_type": "code",
     "collapsed": false,
     "input": [
      "# Set spatial reference\n",
      "spatialReference = osr.SpatialReference()\n",
      "spatialReference.ImportFromProj4('+proj=longlat +ellps=WGS84 +datum=WGS84 +no_defs')\n",
      "\n",
      "# you can also do the following\n",
      "# spatialReference.ImportFromEPSG(4326)\n",
      "\n",
      "## Create Layer\n",
      "layer=ds.CreateLayer(layername,spatialReference, ogr.wkbPoint)\n",
      "## Now check your data folder and you will see that the file has been created!\n",
      "## From now on it is not possible anymore to CreateDataSource with the same name\n",
      "## in your workdirectory untill your remove the name.shp name.shx and name.dbf file.\n",
      "print(layer.GetExtent())\n",
      "print(\"succes\")\n",
      "## What is the geometry type???\n",
      "## What does wkb mean??"
     ],
     "language": "python",
     "metadata": {},
     "outputs": [
      {
       "output_type": "stream",
       "stream": "stdout",
       "text": [
        "(0.0, 0.0, 0.0, 0.0)\n",
        "succes\n"
       ]
      }
     ],
     "prompt_number": 8
    },
    {
     "cell_type": "code",
     "collapsed": false,
     "input": [
      "## ok lets leave the pyramid top and start building the bottom,\n",
      "## let's do points\n",
      "## Create a point\n",
      "point1 = ogr.Geometry(ogr.wkbPoint)\n",
      "point2 = ogr.Geometry(ogr.wkbPoint)\n",
      "\n",
      "## SetPoint(self, int point, double x, double y, double z = 0)\n",
      "point1.SetPoint(0,5.6660024,51.9875559) \n",
      "point2.SetPoint(0,5.6557582,51.99021030000001)\n",
      "print(\"success\")"
     ],
     "language": "python",
     "metadata": {},
     "outputs": [
      {
       "output_type": "stream",
       "stream": "stdout",
       "text": [
        "success\n"
       ]
      }
     ],
     "prompt_number": 9
    },
    {
     "cell_type": "code",
     "collapsed": false,
     "input": [
      "\n",
      "## Back to the pyramid, we still have no Feature\n",
      "## Feature is defined from properties of the layer:e.g:\n",
      "\n",
      "layerDefinition = layer.GetLayerDefn()\n",
      "feature1 = ogr.Feature(layerDefinition)\n",
      "feature2 = ogr.Feature(layerDefinition)\n",
      "\n",
      "## Lets add the points to the feature\n",
      "feature1.SetGeometry(point1)\n",
      "feature2.SetGeometry(point2)\n",
      "\n",
      "## Lets store the feature in a layer\n",
      "layer.CreateFeature(feature1)\n",
      "layer.CreateFeature(feature2)\n",
      "ds.Destroy()\n",
      "ds=drv.Open(fn,1)\n",
      "print(\"success\")"
     ],
     "language": "python",
     "metadata": {},
     "outputs": [
      {
       "output_type": "stream",
       "stream": "stdout",
       "text": [
        "success\n"
       ]
      }
     ],
     "prompt_number": 10
    },
    {
     "cell_type": "code",
     "collapsed": false,
     "input": [
      "!ogr2ogr -f GeoJSON -t_srs crs:84 data/points.geojson data/points.shp\n",
      "print(\"success\")"
     ],
     "language": "python",
     "metadata": {},
     "outputs": [
      {
       "output_type": "stream",
       "stream": "stdout",
       "text": [
        "success\n"
       ]
      }
     ],
     "prompt_number": 11
    },
    {
     "cell_type": "code",
     "collapsed": false,
     "input": [
      "##creating a map\n",
      "import folium\n",
      "import os\n",
      "pointsGeo=os.path.join(\"data/points.geojson\")\n",
      "\n",
      "map_pointsg= folium.Map(location=[52,5.7],tiles='Mapbox Bright', zoom_start=6)\n",
      "map_pointsg.choropleth(geo_path=pointsGeo)\n",
      "map_pointsg.save('data/points.html')\n",
      "print(\"success\")"
     ],
     "language": "python",
     "metadata": {},
     "outputs": [
      {
       "output_type": "stream",
       "stream": "stdout",
       "text": [
        "success\n"
       ]
      }
     ],
     "prompt_number": 12
    },
    {
     "cell_type": "code",
     "collapsed": false,
     "input": [],
     "language": "python",
     "metadata": {},
     "outputs": []
    }
   ],
   "metadata": {}
  }
 ]
}